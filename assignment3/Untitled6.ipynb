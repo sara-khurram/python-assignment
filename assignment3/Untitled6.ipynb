{
 "cells": [
  {
   "cell_type": "code",
   "execution_count": 1,
   "id": "804cad12",
   "metadata": {},
   "outputs": [
    {
     "name": "stdout",
     "output_type": "stream",
     "text": [
      "Twinkle, twinkle, little star, \n",
      "        How I wonder what you are! \n",
      "                Up above the world so high,\n",
      "                Like a diamond in the sky.\n",
      "Twinkle,twinkle,little star, \n",
      "        How I wonder what you are\n"
     ]
    }
   ],
   "source": [
    "print(\"Twinkle, twinkle, little star, \\n        How I wonder what you are! \\n                Up above the world so high,\\n                Like a diamond in the sky.\\nTwinkle,twinkle,little star, \\n        How I wonder what you are\")"
   ]
  },
  {
   "cell_type": "code",
   "execution_count": 3,
   "id": "50981813",
   "metadata": {},
   "outputs": [
    {
     "name": "stdout",
     "output_type": "stream",
     "text": [
      "Q#2\n"
     ]
    }
   ],
   "source": [
    "print(\"Q#2\")"
   ]
  },
  {
   "cell_type": "code",
   "execution_count": 6,
   "id": "5efb0fd4",
   "metadata": {},
   "outputs": [
    {
     "name": "stdout",
     "output_type": "stream",
     "text": [
      "Enter your python version3\n",
      "My Python version is 3\n"
     ]
    }
   ],
   "source": [
    "a = \"My Python version is \";\n",
    "b = input(\"Enter your python version\");\n",
    "c = a + b\n",
    "print(c);"
   ]
  },
  {
   "cell_type": "code",
   "execution_count": 7,
   "id": "3ab31fe5",
   "metadata": {},
   "outputs": [
    {
     "name": "stdout",
     "output_type": "stream",
     "text": [
      "Q#3\n"
     ]
    }
   ],
   "source": [
    "print(\"Q#3\")"
   ]
  },
  {
   "cell_type": "code",
   "execution_count": 8,
   "id": "f4f76681",
   "metadata": {},
   "outputs": [
    {
     "name": "stdout",
     "output_type": "stream",
     "text": [
      "Enter current date 24 October 2021\n",
      "Enter current time 2:39\n"
     ]
    }
   ],
   "source": [
    "Date = input(\"Enter current date \");\n",
    "Time = input(\"Enter current time \");"
   ]
  },
  {
   "cell_type": "code",
   "execution_count": 9,
   "id": "af1debe7",
   "metadata": {},
   "outputs": [
    {
     "name": "stdout",
     "output_type": "stream",
     "text": [
      "Q#4\n"
     ]
    }
   ],
   "source": [
    "print(\"Q#4\")"
   ]
  },
  {
   "cell_type": "code",
   "execution_count": 13,
   "id": "c5c68372",
   "metadata": {},
   "outputs": [
    {
     "name": "stdout",
     "output_type": "stream",
     "text": [
      "enter the radius of circle 4\n",
      "50.272\n"
     ]
    }
   ],
   "source": [
    "pi=3.142;\n",
    "r=int(input(\"enter the radius of circle \"));\n",
    "area = pi * r**2;\n",
    "print(area);\n"
   ]
  },
  {
   "cell_type": "code",
   "execution_count": 14,
   "id": "2a7fa38f",
   "metadata": {},
   "outputs": [
    {
     "name": "stdout",
     "output_type": "stream",
     "text": [
      "Q#5\n"
     ]
    }
   ],
   "source": [
    "print(\"Q#5\");"
   ]
  },
  {
   "cell_type": "code",
   "execution_count": 20,
   "id": "c985d7b1",
   "metadata": {},
   "outputs": [
    {
     "name": "stdout",
     "output_type": "stream",
     "text": [
      "Enter your last name Faryal  \n",
      " Enter your first name Sarah \n",
      "Faryal  Sarah \n"
     ]
    }
   ],
   "source": [
    "u = input(\"Enter your last name \");\n",
    "n = input(\" Enter your first name \");\n",
    "un = u + n;\n",
    "print(un);"
   ]
  },
  {
   "cell_type": "code",
   "execution_count": 21,
   "id": "059e5243",
   "metadata": {},
   "outputs": [
    {
     "name": "stdout",
     "output_type": "stream",
     "text": [
      "Q#6\n"
     ]
    }
   ],
   "source": [
    "print(\"Q#6\");"
   ]
  },
  {
   "cell_type": "code",
   "execution_count": 22,
   "id": "1cb54f69",
   "metadata": {},
   "outputs": [
    {
     "name": "stdout",
     "output_type": "stream",
     "text": [
      "value one24\n",
      "value two44\n",
      "68\n"
     ]
    }
   ],
   "source": [
    "x = int(input(\"value one\"));\n",
    "y = int(input(\"value two\"));\n",
    "z = x + y;\n",
    "print(z);\n"
   ]
  },
  {
   "cell_type": "code",
   "execution_count": 23,
   "id": "a9f2b8a6",
   "metadata": {},
   "outputs": [
    {
     "name": "stdout",
     "output_type": "stream",
     "text": [
      "Q#7\n"
     ]
    }
   ],
   "source": [
    "print(\"Q#7\");"
   ]
  },
  {
   "cell_type": "code",
   "execution_count": 4,
   "id": "2abe2ee8",
   "metadata": {},
   "outputs": [
    {
     "name": "stdout",
     "output_type": "stream",
     "text": [
      "marks of english 86\n",
      "marks of maths 94\n",
      "marks of urdu 97\n",
      "marks of science 82\n",
      "marks of isla 98\n",
      "Grade A+\n"
     ]
    }
   ],
   "source": [
    "english = int(input(\"marks of english \"));\n",
    "maths = int(input(\"marks of maths \"));\n",
    "urdu = int(input(\"marks of urdu \"));\n",
    "science = int(input(\"marks of science \"));\n",
    "islamiat = int(input(\"marks of isla \"));\n",
    "Totalmarks = english + maths + urdu + science + islamiat;\n",
    "percent = Totalmarks/500*100;\n",
    "if percent<100 and percent>80:\n",
    "    print(\"Grade A+\");\n",
    "elif percent<80 and percent>70:\n",
    "    print(\"Grade A\");\n",
    "elif percent<70 and percent>60:\n",
    "    print(\"Grade B\");\n",
    "elif percent<60 and percent>50:\n",
    "    print(\"Grade C\");\n",
    "elif percent<50 and percent>40:\n",
    "    print(\"Grade D\");\n",
    "elif percent<40 and percent>33:\n",
    "    print(\"Grade E\");\n",
    "elif percent<0 and percent>100:\n",
    "    print(\"you didnot write correct percentage\");\n",
    "else:\n",
    "    print(\"Fail\");"
   ]
  },
  {
   "cell_type": "code",
   "execution_count": 5,
   "id": "b118cccf",
   "metadata": {},
   "outputs": [
    {
     "name": "stdout",
     "output_type": "stream",
     "text": [
      "Q#8\n"
     ]
    }
   ],
   "source": [
    "print(\"Q#8\");"
   ]
  },
  {
   "cell_type": "code",
   "execution_count": 19,
   "id": "ec72ff8d",
   "metadata": {},
   "outputs": [
    {
     "name": "stdout",
     "output_type": "stream",
     "text": [
      "enter value of n5\n",
      "even\n"
     ]
    }
   ],
   "source": [
    "e = 8;\n",
    "o = 3;\n",
    "n = int(input(\"enter value of n\"));\n",
    "if n<e or n>3: \n",
    "    print(\"even\");\n",
    "else:\n",
    "    print(\"odd\");\n",
    "       "
   ]
  },
  {
   "cell_type": "code",
   "execution_count": 20,
   "id": "255792e1",
   "metadata": {},
   "outputs": [
    {
     "name": "stdout",
     "output_type": "stream",
     "text": [
      "Q#9\n"
     ]
    }
   ],
   "source": [
    "print(\"Q#9\");"
   ]
  },
  {
   "cell_type": "markdown",
   "id": "c5c79ea0",
   "metadata": {},
   "source": [
    "\n",
    "\n"
   ]
  },
  {
   "cell_type": "code",
   "execution_count": 26,
   "id": "69395e7d",
   "metadata": {},
   "outputs": [
    {
     "name": "stdout",
     "output_type": "stream",
     "text": [
      "['0', '1', '2', '3', '4']\n"
     ]
    }
   ],
   "source": [
    "#list\n",
    "\n",
    "name = [\"0\",\"1\",\"2\",\"3\",\"4\"];\n",
    "print(name);"
   ]
  },
  {
   "cell_type": "code",
   "execution_count": 27,
   "id": "e06ca1d2",
   "metadata": {},
   "outputs": [
    {
     "name": "stdout",
     "output_type": "stream",
     "text": [
      "Q#10\n"
     ]
    }
   ],
   "source": [
    "print(\"Q#10\");"
   ]
  },
  {
   "cell_type": "code",
   "execution_count": 29,
   "id": "4d5d321e",
   "metadata": {
    "scrolled": true
   },
   "outputs": [
    {
     "name": "stdout",
     "output_type": "stream",
     "text": [
      "10\n"
     ]
    }
   ],
   "source": [
    "name = [0,1,2,3,4];\n",
    "name1 = sum(name);\n",
    "print(name1);"
   ]
  },
  {
   "cell_type": "code",
   "execution_count": 30,
   "id": "54b6d8fc",
   "metadata": {},
   "outputs": [
    {
     "name": "stdout",
     "output_type": "stream",
     "text": [
      "Q#11\n"
     ]
    }
   ],
   "source": [
    "print(\"Q#11\");"
   ]
  },
  {
   "cell_type": "code",
   "execution_count": 31,
   "id": "fdf6a01d",
   "metadata": {},
   "outputs": [
    {
     "name": "stdout",
     "output_type": "stream",
     "text": [
      "8\n"
     ]
    }
   ],
   "source": [
    "name = [\"0\",\"8\",\"2\",\"5\",\"4\"];\n",
    "print(name[1]);"
   ]
  },
  {
   "cell_type": "code",
   "execution_count": 32,
   "id": "f6359647",
   "metadata": {},
   "outputs": [
    {
     "name": "stdout",
     "output_type": "stream",
     "text": [
      "Q#12\n"
     ]
    }
   ],
   "source": [
    "print(\"Q#12\");"
   ]
  },
  {
   "cell_type": "code",
   "execution_count": 34,
   "id": "0d8cb18d",
   "metadata": {},
   "outputs": [
    {
     "name": "stdout",
     "output_type": "stream",
     "text": [
      "[0, 1, 2, 3, 4]\n"
     ]
    }
   ],
   "source": [
    "a =  [0,1,2,3,4,98,73,102,203];\n",
    "a2 = a[:5];\n",
    "print(a2);"
   ]
  },
  {
   "cell_type": "code",
   "execution_count": null,
   "id": "dbcdfab1",
   "metadata": {},
   "outputs": [],
   "source": []
  }
 ],
 "metadata": {
  "kernelspec": {
   "display_name": "Python 3",
   "language": "python",
   "name": "python3"
  },
  "language_info": {
   "codemirror_mode": {
    "name": "ipython",
    "version": 3
   },
   "file_extension": ".py",
   "mimetype": "text/x-python",
   "name": "python",
   "nbconvert_exporter": "python",
   "pygments_lexer": "ipython3",
   "version": "3.8.8"
  }
 },
 "nbformat": 4,
 "nbformat_minor": 5
}
